{
  "nbformat": 4,
  "nbformat_minor": 0,
  "metadata": {
    "colab": {
      "name": "Class Exercise",
      "provenance": [],
      "authorship_tag": "ABX9TyO++R2DQaoYeNG1B8dRU6qJ",
      "include_colab_link": true
    },
    "kernelspec": {
      "name": "python3",
      "display_name": "Python 3"
    }
  },
  "cells": [
    {
      "cell_type": "markdown",
      "metadata": {
        "id": "view-in-github",
        "colab_type": "text"
      },
      "source": [
        "<a href=\"https://colab.research.google.com/github/kazuto-abe/Unit3/blob/main/Class_Exercise.ipynb\" target=\"_parent\"><img src=\"https://colab.research.google.com/assets/colab-badge.svg\" alt=\"Open In Colab\"/></a>"
      ]
    },
    {
      "cell_type": "code",
      "metadata": {
        "id": "xhj4x7RkkN1V"
      },
      "source": [
        ""
      ],
      "execution_count": null,
      "outputs": []
    },
    {
      "cell_type": "markdown",
      "metadata": {
        "id": "Vz6YAzVrka_T"
      },
      "source": [
        "# Class Exercise\n",
        "\n",
        "Context: A secondhand Macbook shop provides Macs to customers.\n"
      ]
    },
    {
      "cell_type": "code",
      "metadata": {
        "id": "f2XHpOvVk2Mc",
        "colab": {
          "base_uri": "https://localhost:8080/"
        },
        "outputId": "b80a81b4-0448-4a00-cfa8-33b668e35c5f"
      },
      "source": [
        "# Class exercise\n",
        "\n",
        "class Macbook():\n",
        "  number_of_Macbooks = 0\n",
        "  \n",
        "  # Constructor: here the attributes are defined. Name is an input when creating a Macbook\n",
        "\n",
        "  def __init__(self, name):\n",
        "    self.price = 0\n",
        "    self.memory = 0\n",
        "    self.screen_size = 0\n",
        "    self.battery_capacity = 0\n",
        "    self.current_battery_level = 0\n",
        "    self.strage_size = 0\n",
        "    self.name = name\n",
        "    Macbook.number_of_Macbooks += 1\n",
        "\n",
        "  # Method to increase the battery level by charging Macbook\n",
        "  def charge_macbook(self):\n",
        "    self.current_battery += 5\n",
        "\n",
        "  # Method to get the avairable battery capacity of the Macbook\n",
        "  def get_battery_capacity(self):\n",
        "    return self.battery_capacity\n",
        "  \n",
        "print(f\"number of Macbooks {Macbook.number_of_Macbooks}\")\n",
        "\n",
        "# Create an object of the class Macbook\n",
        "Macbook_1 =  Macbook(name = \"MacBook Intel model\")\n",
        "print(f\"number of Macbooks after adding MacBook Intel model {Macbook.number_of_Macbooks}\")\n",
        "\n",
        "Macbook_2 = Macbook(name = \"Macbook M1 model\")\n",
        "print(f\"number of Macbooks after adding Macbook M1 model {Macbook.number_of_Macbooks}\")\n",
        "    \n"
      ],
      "execution_count": 4,
      "outputs": [
        {
          "output_type": "stream",
          "text": [
            "number of Macbooks 0\n",
            "number of Macbooks after adding MacBook Intel model 1\n",
            "number of Macbooks after adding Macbook M1 model 2\n"
          ],
          "name": "stdout"
        }
      ]
    }
  ]
}